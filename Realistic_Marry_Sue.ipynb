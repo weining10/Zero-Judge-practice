{
 "cells": [
  {
   "cell_type": "code",
   "execution_count": 30,
   "id": "0abe44cd",
   "metadata": {},
   "outputs": [],
   "source": [
    "import requests as rs\n",
    "from bs4 import BeautifulSoup"
   ]
  },
  {
   "cell_type": "code",
   "execution_count": 2,
   "id": "6df9a11d",
   "metadata": {},
   "outputs": [
    {
     "name": "stdout",
     "output_type": "stream",
     "text": [
      "<Response [200]>\n"
     ]
    }
   ],
   "source": [
    "res = rq.get('https://czbooks.net/n/cd0ohh/ckc56a8?chapterNumber=1')\n",
    "print(res)"
   ]
  },
  {
   "cell_type": "code",
   "execution_count": 3,
   "id": "2c997d90",
   "metadata": {},
   "outputs": [
    {
     "name": "stdout",
     "output_type": "stream",
     "text": [
      "第一章\n",
      "\n",
      "　在這個本應是週五的清晨，葉曦醒了過來。\n",
      "\n",
      "　意識醒了，但身體卻分毫動彈不得。\n",
      "\n",
      "　葉曦很熟悉這種感覺，夢魘，俗稱鬼壓床，最近他經常這樣。\n",
      "\n",
      "　快動啊，還要上班呢！也不知道現在幾點了？葉曦很焦慮，全身肌肉都繃緊了，拼了命地想動一下。\n",
      "\n",
      "　他今年二十五歲，畢業之後進了一家大型文學原創網站做編輯，這兩年本來在男頻組幹得好好的，結果三個月前突然被人事部無理取鬧地從男頻組調到了耽美組，作為一個直男，葉曦每天都要硬著頭皮閱讀海量耽美小說，從ABO看到NP，從生子看到人獸，整個人都快變態了。\n",
      "\n",
      "　為了鞏固自己的性取向，葉曦最近每天上班之前都要盯著手機相冊裡身材火爆的美女寫真給自己做十分鐘的心理輔導！\n",
      "\n",
      "　這樣說起來彷彿更加像變態了……\n",
      "\n",
      "　總之因為這次工作調動，葉曦最近三個月壓力猛增，不僅瘦了好幾斤，而且隔三差五就會遇到這樣的夢魘，有時候甚至還會在身體一動不能動的時候聽見詭異的啜泣聲，不過葉曦膽子比較大，對鬼神之說也不怎麼相信，所以煩躁遠遠多於害怕。\n",
      "\n",
      "　臥槽今天會不會遲到啊！掙扎了將近一分鐘，身體仍然動不了，葉曦急得想罵人。\n",
      "\n",
      "　因為對於葉曦來說，上班遲到不僅是丟全勤扣工資那麼簡單，兩個月前他們站的總裁沈修霖不知道抽了什麼風，忽然開始風雨無阻地每天蹲守在編輯部門口抓遲到！按理說這種事情交給打卡機辦就行了，但沈修霖偏不，他不僅親自上陣製造壓力，還會當場把遲到的編輯請到辦公室訓話。因為住得離公司遠而且愛賴床，葉曦已經被他抓過不下十次，是全編輯部被抓包最多的人，每次都要在沈修霖的總裁辦公室待上至少半個小時才會被放出來，非常淒慘。\n",
      "\n",
      "　其實這位沈修霖，不僅家世好容貌英俊，而且年紀輕輕就當上了總裁，本來應該是很受歡迎的，但他偏偏氣質陰沉不苟言笑，常年板著一張冷若冰霜的臉，葉曦看見他就條件反射地心慌氣短口乾舌燥甚至還會緊張到腿軟！\n",
      "\n",
      "　我們沈總真的非常可怕！\n",
      "\n",
      "　一想到沈修霖那張面無表情的棺材臉，葉曦就不知道從哪來了一股勁兒，憋足一口氣霍地坐了起來。\n",
      "\n",
      "　「總算醒……」葉曦睜開眼睛，沒說完的後半截話驀地噎在了嗓子裡。\n",
      "\n",
      "　因為此時此刻映入葉曦眼中的，並不是那間熟悉的臥室，而是鋪天蓋地的一片白色。葉曦神色驚悚地飛快四下看了一圈，發現自己周圍放眼望去竟皆是一片乾淨純粹的雪白，那白色彷彿無邊無際，從葉曦身下一路蔓延開來，前後左右估計能有上百米，而盡頭模糊不清，超出了葉曦的視力範圍。\n",
      "\n",
      "　「臥槽！怎麼回事？」葉曦狠狠揉了把眼睛，懷疑自己沒睡醒。\n",
      "\n",
      "　可再次睜開眼睛時，情況卻沒有絲毫的變化。\n",
      "\n",
      "　葉曦噌地跳了起來，隨著這個起身的動作他才意識到剛剛自己身上還蓋著一條被子，被子旁邊丟著一個枕頭，而腳下無邊無際蔓延著的都是柔軟雪白的布料，看上去非常像床單！\n",
      "\n",
      "　葉曦的腦中轟鳴了片刻：「……」\n",
      "\n",
      "　這不會是張床吧——葉曦的第一個念頭。\n",
      "\n",
      "　這床也太特麼大了吧——葉曦的第二個念頭。\n",
      "\n",
      "　葉曦做了個深呼吸，一邊試圖冷靜下來，一邊重新認真地環視了一遍周圍。他的頭頂上是白色的天花板，他自己身上則穿著一身雪白的睡衣，不知哪裡來的粉色花瓣在空中裊裊飄飛，悄然無聲地落在葉曦腳邊的白色布料上，周圍很安靜，空氣中瀰漫著淡淡的香氣，彷彿是某種昂貴的香水……\n",
      "\n",
      "　種種跡象表明，這處空間雖然廣闊得差不多相當於好幾個操場，但卻是室內！\n",
      "\n",
      "　這可真是非常離奇……\n",
      "\n",
      "　莫非是穿越了？作為一個遍閱網絡小說的編輯，葉曦很快就想到了這個可能性，他在自己臉上拍了兩下，強迫自己鎮定下來，他清了清嗓子，小心翼翼地對著空氣問了句：「有人嗎？」\n",
      "\n",
      "　話音剛落，葉曦耳邊便響起了一個如同谷歌翻譯一般機械的電子男聲：「您好，歡迎您來到9235號任務世界。」\n",
      "\n",
      "　「……什麼？」葉曦到處看了一圈，沒看到任何人，也沒找到揚聲器之類的東西，那聲音簡直像是從他大腦中播放出來的一樣。\n",
      "\n",
      "　電子男聲毫無情緒波動：「下面進行說明，這是一個由人類念力形成的虛擬系統，您所處的9235號任務世界是由大量針對您的且內容高度統一的怨念所形成的。任務世界與現實世界時間流速不同，任務世界的一年約等於現實世界五分鐘，脫離任務世界的唯一方式就是根據怨念發生者的意願完成相應任務，完成任務可以獲得一定經驗值，升至滿級之後即可脫離，任務與屬性界面開關位於您右手腕內側，點擊即可開啟，界面顯示直接作用於視網膜，除了您之外任何人都無法看到，請問您還有其他問題嗎？請語音選擇，是或否。」\n",
      "\n",
      "　葉曦目瞪口呆地愣怔了片刻，開口大叫道：「等等！先別走！」\n",
      "\n",
      "　無情的電子男聲：「等待中。請問您還有其他問題嗎？請語音選擇，是或否。」\n",
      "\n",
      "　確定了這個詭異的聲音不會突然消失後，葉曦急忙低頭查看起自己的手腕，右手手腕內側光滑白淨，沒有什麼按鈕開關之類的東西，只多出來了一顆小小的痣，葉曦猶豫了片刻，便試探著伸手按了過去……\n",
      "\n",
      "　手指按下去的一瞬間，葉曦眼前出現了一個任務界面，界面是半透明的，覆蓋在葉曦原本看到的景物上，既能看到界面本身，又不影響視物，左上角是葉曦的頭像，旁邊還有一個Lv 0/Lv 99的標識，顯示葉曦現在的等級是0級，葉曦在心裡臥槽了一下，然後定睛檢視起界面中密密麻麻的文字介紹。\n",
      "\n",
      "　人物姓名：慕容X（此處省略一百字節無意義字符）\n",
      "\n",
      "　葉曦差點樂出來。\n",
      "\n",
      "　這是一個耿直的系統！\n",
      "\n",
      "　人物身份：掌管全球經濟命脈的四大家族之一——慕容家族中年紀最小的小少爺。\n",
      "\n",
      "　葉曦頓時回憶起了每天被大量瑪麗蘇耽美寫手支配的恐懼。\n",
      "\n",
      "　人物性格：時而冷酷，時而溫柔，時而狂野，時而嫻靜，時而外向，時而內向，時而……\n",
      "\n",
      "　葉曦數了一下這些自相矛盾的性格，居然有二十四個之多。\n",
      "\n",
      "　哈哈哈24重人格分裂嗎！\n",
      "\n",
      "　葉曦沒心沒肺地哈哈哈哈起來，顯然是對自己處境之糟糕缺乏充分的認識……\n",
      "\n",
      "　人物設定：吹彈可破的絕美臉蛋，烏檀木般墨黑的頭髮，牛奶般絲滑白嫩的皮膚，花瓣般鮮艷嫣紅的小嘴，不盈一握的纖細腰肢，生氣時頭髮是卷的，開心時頭髮是直的，緊張時頭髮會飄落櫻花，幸福時頭髮會飄落薔薇花，哭泣時流下的眼淚都會變成晶瑩的鑽石……\n",
      "\n",
      "　葉曦面色複雜地低頭看著自己腳下已經堆了厚厚一層的粉色花瓣，這些花瓣從他醒了之後就一直在不停地落，但是因為整件事情都太離奇了所以葉曦的注意力沒有放在這些花瓣上面。\n",
      "\n",
      "　「不會是真的吧。」葉曦自言自語著，抬手在頭上摸了一把，抓了一手的花瓣。\n",
      "\n",
      "　葉曦一臉懵逼地看著從頭髮裡抓出來的櫻花花瓣：「……」\n",
      "\n",
      "　說掉櫻花就掉櫻花啊系統要不要這麼忠實還原啊！？\n",
      "\n",
      "　劇情主線簡介：主角是慕容家族中集萬千寵愛於一身的小少爺，與掌管全球經濟命脈的四大家族之首——皇甫家族的長子自小便定下婚約，可是慕容少爺本人對這樁婚事並不滿意，並不惜惹怒皇甫少爺，99次逃脫了皇甫的掌控……皇甫X：呵，這世界上只有兩種東西，我想要的，和我不想要的！慕容X：哼，我堂堂慕容家的少爺，才不會任你擺佈！\n",
      "\n",
      "　葉曦倒抽一口冷氣，整個人如同被雷劈中。\n",
      "\n",
      "　並不是因為這個天雷滾滾的劇情簡介，因為這種程度的雷他已經看習慣了，而是這個簡介內容讓他覺得非常眼熟……\n",
      "\n",
      "　葉曦瞪大了眼睛往下看去。\n",
      "\n",
      "　任務全名：《豪門寵夫：逃婚99次》\n",
      "\n",
      "　葉曦：「……」\n",
      "\n",
      "　媽的，這篇小說我拒簽過！\n",
      "\n",
      "　葉曦之所以會記得這麼清楚是因為《豪門寵夫：逃婚99次》是他被調到耽美組之後拒簽的第一本小說……\n",
      "\n",
      "　這年頭網文門檻低，只要會打字就能寫小說，所以各種狗血爛俗瑪麗蘇小白文多得像雪片一樣，十幾年前就爛大街的老梗現在一樣大把的人在用，什麼車禍白血病霸道總裁冰山校草七彩髮色繽紛體.液身住百萬平米豪宅手掌全球經濟命脈……讀者很少能看到這些質量嚴重不過關的小說，但葉曦卻要天天和它們打交道，加上還是直男看耽美，本來就很蛋疼，不吐槽一番已經是很給面子了，實在沒有多餘的心情向簽約失敗的作者賣萌，因此拒簽時都會直白地說明對方的問題所在——「對不起，您的文筆稍顯浮誇稚嫩，尚未達到簽約標準」「對不起，您的作品情節缺乏邏輯，尚未達到簽約標準」\n",
      "\n",
      "　於是，在全員軟萌妹子的耽美編輯組中，葉曦就顯得格外高冷不近人情，在寫手中人氣值可以說是低穿地心，經常有被他拒簽的寫手上網站論壇披著馬甲吐槽他，後來這些寫手還專門給葉曦蓋了個樓，名字就叫「818耽美組那個高貴冷艷的直男編輯」，樓裡怨氣深重，葉曦好奇地查過一次IP，發現那座樓的樓主居然就是《豪門寵夫：逃婚99次》的作者，這個作者天天在樓裡帶節奏，把葉曦從頭黑到腳，可見其怨念之深重……\n",
      "\n",
      "　葉曦：「……」\n",
      "\n",
      "　那個作者你究竟是有多恨我啊啊啊啊啊！\n",
      "\n",
      "　不僅給我蓋了個樓，居然還給我整了個世界！？\n"
     ]
    }
   ],
   "source": [
    "soup = BeautifulSoup(res.text,'html.parser')\n",
    "articals = soup.select('div.content')\n",
    "for art in articals:\n",
    "    print(art.text)"
   ]
  },
  {
   "cell_type": "code",
   "execution_count": 4,
   "id": "26453db7",
   "metadata": {},
   "outputs": [
    {
     "name": "stdout",
     "output_type": "stream",
     "text": [
      "<a class=\"next-chapter\" href=\"//czbooks.net/n/cd0ohh/ckc56ak?chapterNumber=2\">下一章</a>\n",
      "//czbooks.net/n/cd0ohh/ckc56ak?chapterNumber=2\n"
     ]
    }
   ],
   "source": [
    "paging = soup.select('ul.nav.chapter-nav a')\n",
    "print(paging[1])\n",
    "print(paging[1]['href'])"
   ]
  },
  {
   "cell_type": "code",
   "execution_count": 74,
   "id": "c515aa18",
   "metadata": {},
   "outputs": [
    {
     "name": "stdout",
     "output_type": "stream",
     "text": [
      "《寫實派瑪麗蘇》第1章\n",
      "http://czbooks.net/n/cd0ohh/ckc56hj?chapterNumber=2\n",
      "《寫實派瑪麗蘇》第2章\n"
     ]
    }
   ],
   "source": [
    "url = 'https://czbooks.net/n/cd0ohh/ckc56ak?chapterNumber=1'\n",
    "res = rq.get(url)\n",
    "soup = BeautifulSoup(res.text,'html.parser')\n",
    "\n",
    "#抓取文章內容\n",
    "articals = soup.select('div.name')\n",
    "print(articals[0].text)\n",
    "#下一頁網址\n",
    "paging = soup.select('ul.nav.chapter-nav a.next-chapter')\n",
    "next_page = 'http:'+paging[0]['href']\n",
    "print(next_page)\n",
    "#抓取下一頁網頁連結\n",
    "res2 = rq.get(next_page)\n",
    "soup = BeautifulSoup(res2.text,'html.parser')\n",
    "artical2 = soup.select('div.name')\n",
    "print(artical2[0].text)\n",
    "#page = soup.select()"
   ]
  },
  {
   "cell_type": "code",
   "execution_count": 75,
   "id": "27461425",
   "metadata": {},
   "outputs": [
    {
     "ename": "IndexError",
     "evalue": "list index out of range",
     "output_type": "error",
     "traceback": [
      "\u001b[1;31m---------------------------------------------------------------------------\u001b[0m",
      "\u001b[1;31mIndexError\u001b[0m                                Traceback (most recent call last)",
      "\u001b[1;32m~\\AppData\\Local\\Temp\\ipykernel_25128\\810976457.py\u001b[0m in \u001b[0;36m<module>\u001b[1;34m\u001b[0m\n\u001b[0;32m     13\u001b[0m         \u001b[1;32mbreak\u001b[0m\u001b[1;33m\u001b[0m\u001b[1;33m\u001b[0m\u001b[0m\n\u001b[0;32m     14\u001b[0m     \u001b[1;32melse\u001b[0m\u001b[1;33m:\u001b[0m\u001b[1;33m\u001b[0m\u001b[1;33m\u001b[0m\u001b[0m\n\u001b[1;32m---> 15\u001b[1;33m         \u001b[0mnext_url\u001b[0m \u001b[1;33m=\u001b[0m \u001b[1;34m'http:'\u001b[0m\u001b[1;33m+\u001b[0m\u001b[0mpaging\u001b[0m\u001b[1;33m[\u001b[0m\u001b[1;36m0\u001b[0m\u001b[1;33m]\u001b[0m\u001b[1;33m[\u001b[0m\u001b[1;34m'href'\u001b[0m\u001b[1;33m]\u001b[0m\u001b[1;33m\u001b[0m\u001b[1;33m\u001b[0m\u001b[0m\n\u001b[0m\u001b[0;32m     16\u001b[0m         \u001b[0murl\u001b[0m \u001b[1;33m=\u001b[0m \u001b[0mnext_url\u001b[0m\u001b[1;33m\u001b[0m\u001b[1;33m\u001b[0m\u001b[0m\n",
      "\u001b[1;31mIndexError\u001b[0m: list index out of range"
     ]
    }
   ],
   "source": [
    "path = 'try.txt'\n",
    "f = open(path,'w')\n",
    "\n",
    "url = 'https://czbooks.net/n/cd0ohh/ckc56ak?chapterNumber=1'\n",
    "#跑到第三章\n",
    "for round in range(72):\n",
    "    res = rq.get(url)\n",
    "    soup = BeautifulSoup(res.text,'html.parser')\n",
    "    txt = soup.select('div.name')\n",
    "    print(txt[0].text,file=f)\n",
    "    paging = soup.select('ul.nav.chapter-nav a.next-chapter')\n",
    "    if round == 73:\n",
    "        break\n",
    "    else:\n",
    "        next_url = 'http:'+paging[0]['href']\n",
    "        url = next_url"
   ]
  },
  {
   "cell_type": "markdown",
   "id": "e8f30657",
   "metadata": {},
   "source": [
    "成果一"
   ]
  },
  {
   "cell_type": "code",
   "execution_count": null,
   "id": "48118e14",
   "metadata": {
    "scrolled": true
   },
   "outputs": [],
   "source": [
    "#導入模組\n",
    "import requests as rq\n",
    "from bs4 import BeautifulSoup\n",
    "\n",
    "#txt檔案前置動作\n",
    "path = 'Realistic_Marry_Sue.txt'\n",
    "f = open(path,'w',encoding='UTF-8')\n",
    "\n",
    "#載入網頁\n",
    "url = 'https://czbooks.net/n/cd0ohh/ckc56a8?chapterNumber=1'\n",
    "for round in range(72):\n",
    "    res = rq.get(url)\n",
    "    soup = BeautifulSoup(res.text,'html.parser')\n",
    "    #提取小說內文\n",
    "    articals = soup.select('div.content')\n",
    "    print((articals[0].text+'\\n\\n\\n'),file=f)\n",
    "    #下一頁\n",
    "    paging = soup.select('ul.nav.chapter-nav a.next-chapter')\n",
    "    next_url = 'https:'+paging[0]['href']\n",
    "    url = next_url"
   ]
  },
  {
   "cell_type": "markdown",
   "id": "834cb5f9",
   "metadata": {},
   "source": [
    "成果二"
   ]
  },
  {
   "cell_type": "code",
   "execution_count": 78,
   "id": "d161500f",
   "metadata": {},
   "outputs": [
    {
     "ename": "IndexError",
     "evalue": "list index out of range",
     "output_type": "error",
     "traceback": [
      "\u001b[1;31m---------------------------------------------------------------------------\u001b[0m",
      "\u001b[1;31mIndexError\u001b[0m                                Traceback (most recent call last)",
      "\u001b[1;32m~\\AppData\\Local\\Temp\\ipykernel_25128\\2968550606.py\u001b[0m in \u001b[0;36m<module>\u001b[1;34m\u001b[0m\n\u001b[0;32m     19\u001b[0m     \u001b[0mprint\u001b[0m\u001b[1;33m(\u001b[0m\u001b[1;33m(\u001b[0m\u001b[0mtxt\u001b[0m\u001b[1;33m[\u001b[0m\u001b[1;36m0\u001b[0m\u001b[1;33m]\u001b[0m\u001b[1;33m.\u001b[0m\u001b[0mtext\u001b[0m\u001b[1;33m+\u001b[0m\u001b[1;34m'\\n\\n\\n'\u001b[0m\u001b[1;33m)\u001b[0m\u001b[1;33m,\u001b[0m\u001b[0mfile\u001b[0m\u001b[1;33m=\u001b[0m\u001b[0mf\u001b[0m\u001b[1;33m)\u001b[0m\u001b[1;33m\u001b[0m\u001b[1;33m\u001b[0m\u001b[0m\n\u001b[0;32m     20\u001b[0m     \u001b[0mpaging\u001b[0m \u001b[1;33m=\u001b[0m \u001b[0msoup\u001b[0m\u001b[1;33m.\u001b[0m\u001b[0mselect\u001b[0m\u001b[1;33m(\u001b[0m\u001b[1;34m'ul.nav.chapter-nav a.next-chapter'\u001b[0m\u001b[1;33m)\u001b[0m\u001b[1;33m\u001b[0m\u001b[1;33m\u001b[0m\u001b[0m\n\u001b[1;32m---> 21\u001b[1;33m     \u001b[0mnext_url\u001b[0m \u001b[1;33m=\u001b[0m \u001b[1;34m'https:'\u001b[0m\u001b[1;33m+\u001b[0m\u001b[0mpaging\u001b[0m\u001b[1;33m[\u001b[0m\u001b[1;36m0\u001b[0m\u001b[1;33m]\u001b[0m\u001b[1;33m[\u001b[0m\u001b[1;34m'href'\u001b[0m\u001b[1;33m]\u001b[0m\u001b[1;33m\u001b[0m\u001b[1;33m\u001b[0m\u001b[0m\n\u001b[0m\u001b[0;32m     22\u001b[0m     \u001b[0murl\u001b[0m \u001b[1;33m=\u001b[0m \u001b[0mnext_url\u001b[0m\u001b[1;33m\u001b[0m\u001b[1;33m\u001b[0m\u001b[0m\n",
      "\u001b[1;31mIndexError\u001b[0m: list index out of range"
     ]
    }
   ],
   "source": [
    "#導入模組\n",
    "import requests as rq\n",
    "from bs4 import BeautifulSoup\n",
    "#嘗試解決代碼問題\n",
    "import importlib,sys\n",
    "importlib.reload(sys)\n",
    "\n",
    "#txt檔案前置動作\n",
    "path = 'output.txt'\n",
    "f = open(path,'w',encoding='UTF-8')\n",
    "\n",
    "url = \"https://czbooks.net/n/cd0ohh/ckc56ak?chapterNumber=1\"\n",
    "for round in range(73):\n",
    "    response = rq.get(url) # 用 requests 的 get 方法把網頁抓下來\n",
    "    html_doc = response.text # text 屬性就是 html 檔案\n",
    "    soup = BeautifulSoup(response.text, \"lxml\") # 指定 lxml 作為解析器\n",
    "    soup.encoding = 'utf-8'\n",
    "    txt = soup.select('div.content')\n",
    "    print((txt[0].text+'\\n\\n\\n'),file=f)\n",
    "    paging = soup.select('ul.nav.chapter-nav a.next-chapter')\n",
    "    next_url = 'https:'+paging[0]['href']\n",
    "    url = next_url"
   ]
  },
  {
   "cell_type": "code",
   "execution_count": null,
   "id": "a4c08d07",
   "metadata": {},
   "outputs": [],
   "source": []
  },
  {
   "cell_type": "code",
   "execution_count": null,
   "id": "068d1109",
   "metadata": {},
   "outputs": [],
   "source": []
  },
  {
   "cell_type": "code",
   "execution_count": null,
   "id": "b534226e",
   "metadata": {},
   "outputs": [],
   "source": []
  }
 ],
 "metadata": {
  "kernelspec": {
   "display_name": "Python 3 (ipykernel)",
   "language": "python",
   "name": "python3"
  },
  "language_info": {
   "codemirror_mode": {
    "name": "ipython",
    "version": 3
   },
   "file_extension": ".py",
   "mimetype": "text/x-python",
   "name": "python",
   "nbconvert_exporter": "python",
   "pygments_lexer": "ipython3",
   "version": "3.9.13"
  }
 },
 "nbformat": 4,
 "nbformat_minor": 5
}
